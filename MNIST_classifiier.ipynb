{
 "cells": [
  {
   "cell_type": "code",
   "execution_count": 1,
   "metadata": {},
   "outputs": [
    {
     "name": "stdout",
     "output_type": "stream",
     "text": [
      "Requirement already satisfied: tensorflow-datasets in c:\\users\\zayaa\\appdata\\local\\programs\\python\\python312\\lib\\site-packages (4.9.6)\n",
      "Requirement already satisfied: absl-py in c:\\users\\zayaa\\appdata\\local\\programs\\python\\python312\\lib\\site-packages (from tensorflow-datasets) (2.1.0)\n",
      "Requirement already satisfied: click in c:\\users\\zayaa\\appdata\\local\\programs\\python\\python312\\lib\\site-packages (from tensorflow-datasets) (8.1.7)\n",
      "Requirement already satisfied: dm-tree in c:\\users\\zayaa\\appdata\\local\\programs\\python\\python312\\lib\\site-packages (from tensorflow-datasets) (0.1.8)\n",
      "Requirement already satisfied: immutabledict in c:\\users\\zayaa\\appdata\\local\\programs\\python\\python312\\lib\\site-packages (from tensorflow-datasets) (4.2.0)\n",
      "Requirement already satisfied: numpy in c:\\users\\zayaa\\appdata\\local\\programs\\python\\python312\\lib\\site-packages (from tensorflow-datasets) (1.26.4)\n",
      "Requirement already satisfied: promise in c:\\users\\zayaa\\appdata\\local\\programs\\python\\python312\\lib\\site-packages (from tensorflow-datasets) (2.3)\n",
      "Requirement already satisfied: protobuf>=3.20 in c:\\users\\zayaa\\appdata\\local\\programs\\python\\python312\\lib\\site-packages (from tensorflow-datasets) (4.25.3)\n",
      "Requirement already satisfied: psutil in c:\\users\\zayaa\\appdata\\roaming\\python\\python312\\site-packages (from tensorflow-datasets) (6.0.0)\n",
      "Requirement already satisfied: pyarrow in c:\\users\\zayaa\\appdata\\local\\programs\\python\\python312\\lib\\site-packages (from tensorflow-datasets) (17.0.0)\n",
      "Requirement already satisfied: requests>=2.19.0 in c:\\users\\zayaa\\appdata\\local\\programs\\python\\python312\\lib\\site-packages (from tensorflow-datasets) (2.32.3)\n",
      "Requirement already satisfied: simple-parsing in c:\\users\\zayaa\\appdata\\local\\programs\\python\\python312\\lib\\site-packages (from tensorflow-datasets) (0.1.6)\n",
      "Requirement already satisfied: tensorflow-metadata in c:\\users\\zayaa\\appdata\\local\\programs\\python\\python312\\lib\\site-packages (from tensorflow-datasets) (1.16.1)\n",
      "Requirement already satisfied: termcolor in c:\\users\\zayaa\\appdata\\local\\programs\\python\\python312\\lib\\site-packages (from tensorflow-datasets) (2.4.0)\n",
      "Requirement already satisfied: toml in c:\\users\\zayaa\\appdata\\local\\programs\\python\\python312\\lib\\site-packages (from tensorflow-datasets) (0.10.2)\n",
      "Requirement already satisfied: tqdm in c:\\users\\zayaa\\appdata\\local\\programs\\python\\python312\\lib\\site-packages (from tensorflow-datasets) (4.66.5)\n",
      "Requirement already satisfied: wrapt in c:\\users\\zayaa\\appdata\\local\\programs\\python\\python312\\lib\\site-packages (from tensorflow-datasets) (1.16.0)\n",
      "Requirement already satisfied: etils>=1.9.1 in c:\\users\\zayaa\\appdata\\local\\programs\\python\\python312\\lib\\site-packages (from etils[enp,epath,epy,etree]>=1.9.1; python_version >= \"3.11\"->tensorflow-datasets) (1.10.0)\n",
      "Requirement already satisfied: fsspec in c:\\users\\zayaa\\appdata\\local\\programs\\python\\python312\\lib\\site-packages (from etils[enp,epath,epy,etree]>=1.9.1; python_version >= \"3.11\"->tensorflow-datasets) (2024.6.1)\n",
      "Requirement already satisfied: importlib_resources in c:\\users\\zayaa\\appdata\\local\\programs\\python\\python312\\lib\\site-packages (from etils[enp,epath,epy,etree]>=1.9.1; python_version >= \"3.11\"->tensorflow-datasets) (6.4.5)\n",
      "Requirement already satisfied: typing_extensions in c:\\users\\zayaa\\appdata\\local\\programs\\python\\python312\\lib\\site-packages (from etils[enp,epath,epy,etree]>=1.9.1; python_version >= \"3.11\"->tensorflow-datasets) (4.12.2)\n",
      "Requirement already satisfied: zipp in c:\\users\\zayaa\\appdata\\local\\programs\\python\\python312\\lib\\site-packages (from etils[enp,epath,epy,etree]>=1.9.1; python_version >= \"3.11\"->tensorflow-datasets) (3.20.2)\n",
      "Requirement already satisfied: charset-normalizer<4,>=2 in c:\\users\\zayaa\\appdata\\local\\programs\\python\\python312\\lib\\site-packages (from requests>=2.19.0->tensorflow-datasets) (3.3.2)\n",
      "Requirement already satisfied: idna<4,>=2.5 in c:\\users\\zayaa\\appdata\\local\\programs\\python\\python312\\lib\\site-packages (from requests>=2.19.0->tensorflow-datasets) (3.7)\n",
      "Requirement already satisfied: urllib3<3,>=1.21.1 in c:\\users\\zayaa\\appdata\\local\\programs\\python\\python312\\lib\\site-packages (from requests>=2.19.0->tensorflow-datasets) (2.2.2)\n",
      "Requirement already satisfied: certifi>=2017.4.17 in c:\\users\\zayaa\\appdata\\local\\programs\\python\\python312\\lib\\site-packages (from requests>=2.19.0->tensorflow-datasets) (2024.7.4)\n",
      "Requirement already satisfied: colorama in c:\\users\\zayaa\\appdata\\roaming\\python\\python312\\site-packages (from click->tensorflow-datasets) (0.4.6)\n",
      "Requirement already satisfied: six in c:\\users\\zayaa\\appdata\\local\\programs\\python\\python312\\lib\\site-packages (from promise->tensorflow-datasets) (1.16.0)\n",
      "Requirement already satisfied: docstring-parser<1.0,>=0.15 in c:\\users\\zayaa\\appdata\\local\\programs\\python\\python312\\lib\\site-packages (from simple-parsing->tensorflow-datasets) (0.16)\n",
      "Requirement already satisfied: googleapis-common-protos<2,>=1.56.4 in c:\\users\\zayaa\\appdata\\local\\programs\\python\\python312\\lib\\site-packages (from tensorflow-metadata->tensorflow-datasets) (1.65.0)\n",
      "Note: you may need to restart the kernel to use updated packages.\n"
     ]
    },
    {
     "name": "stderr",
     "output_type": "stream",
     "text": [
      "\n",
      "[notice] A new release of pip is available: 24.1.1 -> 24.3\n",
      "[notice] To update, run: python.exe -m pip install --upgrade pip\n"
     ]
    }
   ],
   "source": [
    "%pip install tensorflow-datasets"
   ]
  },
  {
   "cell_type": "code",
   "execution_count": 2,
   "metadata": {},
   "outputs": [],
   "source": [
    "import numpy as np\n",
    "import matplotlib.pyplot as plt\n",
    "import tensorflow as tf\n",
    "import tensorflow_datasets as tfds\n",
    "import tensorflow.keras as keras\n",
    "from tensorflow.keras.preprocessing.image import ImageDataGenerator"
   ]
  },
  {
   "cell_type": "code",
   "execution_count": 3,
   "metadata": {},
   "outputs": [],
   "source": [
    "mnist_dataset = tfds.load(\"mnist\", as_supervised=True)"
   ]
  },
  {
   "cell_type": "code",
   "execution_count": 4,
   "metadata": {},
   "outputs": [],
   "source": [
    "(x_train, y_train), (x_test, y_test) = keras.datasets.mnist.load_data()\n",
    "\n",
    "# reserving 10,000 images for validation from training to make sure test set is untouched until end\n",
    "x_val = x_train[-10000:]\n",
    "y_val = y_train[-10000:]\n",
    "x_train = x_train[:-10000]\n",
    "y_train = y_train[:-10000]"
   ]
  },
  {
   "cell_type": "markdown",
   "metadata": {},
   "source": [
    "## reshaping the input for X but not y (since y is ground truth labels) to add extra dimension for channel = 1(grayscale not RGB)"
   ]
  },
  {
   "cell_type": "code",
   "execution_count": 5,
   "metadata": {},
   "outputs": [],
   "source": [
    "x_train = x_train.reshape(x_train.shape[0], x_train.shape[1], x_train.shape[2], 1)\n",
    "x_val = x_val.reshape(x_val.shape[0], x_val.shape[1], x_val.shape[2], 1)\n",
    "x_test = x_test.reshape(x_test.shape[0], x_test.shape[1], x_test.shape[2], 1)\n",
    "\n"
   ]
  },
  {
   "cell_type": "code",
   "execution_count": 6,
   "metadata": {},
   "outputs": [
    {
     "name": "stdout",
     "output_type": "stream",
     "text": [
      "x-train dimensions: (50000, 28, 28, 1)\n",
      "y-train dimensions: (50000,)\n",
      "\n",
      "x-val dimensions: (10000, 28, 28, 1)\n",
      "y-val dimensions: (10000,)\n",
      "\n",
      "x-test dimensions: (10000, 28, 28, 1)\n",
      "y-test dimensions: (10000,)\n"
     ]
    }
   ],
   "source": [
    "print(\"x-train dimensions:\", x_train.shape)\n",
    "print(\"y-train dimensions:\",y_train.shape) # ground truth labels for training\n",
    "\n",
    "print()\n",
    "\n",
    "print(\"x-val dimensions:\", x_val.shape)\n",
    "print(\"y-val dimensions:\",y_val.shape) # ground truth labels for training\n",
    "\n",
    "print()\n",
    "\n",
    "print(\"x-test dimensions:\", x_test.shape) # ground truth labels for testing\n",
    "print(\"y-test dimensions:\",y_test.shape)"
   ]
  },
  {
   "cell_type": "code",
   "execution_count": 7,
   "metadata": {},
   "outputs": [
    {
     "data": {
      "text/plain": [
       "numpy.ndarray"
      ]
     },
     "execution_count": 7,
     "metadata": {},
     "output_type": "execute_result"
    }
   ],
   "source": [
    "type(x_train)"
   ]
  },
  {
   "cell_type": "code",
   "execution_count": 8,
   "metadata": {},
   "outputs": [
    {
     "data": {
      "image/png": "[encoded data removed]",
      "text/plain": [
       "<Figure size 640x480 with 16 Axes>"
      ]
     },
     "metadata": {},
     "output_type": "display_data"
    }
   ],
   "source": [
    "for i in range(16):\n",
    "    img = x_train[i]\n",
    "    label = y_train[i]\n",
    "\n",
    "    plt.subplot(5, 5, i+1)\n",
    "    plt.title(str(f\"{label}\")) # ground truth labels\n",
    "    plt.tight_layout()\n",
    "    plt.imshow(img, cmap=\"gray\") # using grayscale to simplify network architecture\n",
    "\n",
    "plt.show()"
   ]
  },
  {
   "cell_type": "markdown",
   "metadata": {},
   "source": [
    "## setting hyperparameters"
   ]
  },
  {
   "cell_type": "code",
   "execution_count": 9,
   "metadata": {},
   "outputs": [],
   "source": [
    "BATCH_SIZE = 64\n",
    "LEARNING_RATE = 0.01"
   ]
  },
  {
   "cell_type": "markdown",
   "metadata": {},
   "source": [
    "## data preparation (preprocessing + transformations) for train + validation"
   ]
  },
  {
   "cell_type": "code",
   "execution_count": 10,
   "metadata": {},
   "outputs": [],
   "source": [
    "train_data_generation = ImageDataGenerator(\n",
    "    rescale=1/255,\n",
    "    rotation_range=40,\n",
    "    horizontal_flip=True\n",
    ")\n",
    "\n",
    "validation_data_generation = ImageDataGenerator(\n",
    "    rescale=1/255,\n",
    "    rotation_range=40,\n",
    "    horizontal_flip=True\n",
    ")\n",
    "\n",
    "train_generator = train_data_generation.flow(\n",
    "    x_train, # image data array\n",
    "    y_train, # label - ground truth array\n",
    "    batch_size=BATCH_SIZE,\n",
    "    shuffle=True\n",
    ")\n",
    "\n",
    "validation_generator = validation_data_generation.flow(\n",
    "    x_val, # image data array for validation\n",
    "    y_val, # label - ground truth array for validation\n",
    "    batch_size=BATCH_SIZE,\n",
    "    shuffle=True\n",
    ")"
   ]
  },
  {
   "cell_type": "code",
   "execution_count": null,
   "metadata": {},
   "outputs": [],
   "source": []
  }
 ],
 "metadata": {
  "kernelspec": {
   "display_name": "Python 3",
   "language": "python",
   "name": "python3"
  },
  "language_info": {
   "codemirror_mode": {
    "name": "ipython",
    "version": 3
   },
   "file_extension": ".py",
   "mimetype": "text/x-python",
   "name": "python",
   "nbconvert_exporter": "python",
   "pygments_lexer": "ipython3",
   "version": "3.12.4"
  }
 },
 "nbformat": 4,
 "nbformat_minor": 2
}
